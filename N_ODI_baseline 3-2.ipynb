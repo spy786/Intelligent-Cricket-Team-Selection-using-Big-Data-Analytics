{
 "cells": [
  {
   "cell_type": "code",
   "execution_count": 1470,
   "metadata": {},
   "outputs": [],
   "source": [
    "import pandas as pd\n",
    "import numpy as np\n",
    "from sklearn.model_selection import train_test_split\n",
    "from sklearn.ensemble import RandomForestClassifier, RandomForestRegressor\n",
    "from xgboost import XGBClassifier, XGBRegressor\n",
    "from sklearn.tree import DecisionTreeRegressor\n",
    "from sklearn.linear_model import LinearRegression, BayesianRidge,TweedieRegressor\n",
    "from lightgbm import LGBMClassifier\n",
    "#import tensorflow\n",
    "from sklearn.ensemble import AdaBoostRegressor \n",
    "from catboost import CatBoostRegressor\n",
    "from sklearn.preprocessing import LabelEncoder\n",
    "import time\n",
    "from tabpfn import TabPFNRegressor\n",
    "import lightgbm as lgb\n",
    "from lightgbm import LGBMRegressor\n",
    "from sklearn.base import BaseEstimator, RegressorMixin\n",
    "from sklearn.feature_selection import mutual_info_regression, mutual_info_classif"
   ]
  },
  {
   "cell_type": "markdown",
   "metadata": {},
   "source": [
    "#### Initial Work on Data"
   ]
  },
  {
   "cell_type": "code",
   "execution_count": 1472,
   "metadata": {},
   "outputs": [
    {
     "name": "stderr",
     "output_type": "stream",
     "text": [
      "/var/folders/s8/l066lscn1192jjqlcbvxsyz40000gn/T/ipykernel_76793/2062031687.py:1: DtypeWarning: Columns (2,33,46) have mixed types. Specify dtype option on import or set low_memory=False.\n",
      "  df = pd.read_csv(\"mw_pw_profiles.csv\")\n"
     ]
    }
   ],
   "source": [
    "df = pd.read_csv(\"mw_pw_profiles.csv\")\n",
    "df2 = pd.read_csv(\"mw_overall.csv\")"
   ]
  },
  {
   "cell_type": "code",
   "execution_count": 1473,
   "metadata": {},
   "outputs": [],
   "source": [
    "cutoff_date = '2022-06-06'"
   ]
  },
  {
   "cell_type": "code",
   "execution_count": 1474,
   "metadata": {},
   "outputs": [
    {
     "data": {
      "text/plain": [
       "(409559, 56)"
      ]
     },
     "execution_count": 1474,
     "metadata": {},
     "output_type": "execute_result"
    }
   ],
   "source": [
    "df.shape"
   ]
  },
  {
   "cell_type": "code",
   "execution_count": 1475,
   "metadata": {},
   "outputs": [
    {
     "data": {
      "text/plain": [
       "Index(['Unnamed: 0', 'player_id', 'match_id', 'gender', 'balls_per_over',\n",
       "       'start_date', 'series_name', 'match_type', 'name_x', 'runs_scored',\n",
       "       'player_out', 'balls_faced', 'fours_scored', 'sixes_scored',\n",
       "       'catches_taken', 'run_out_direct', 'run_out_throw', 'stumpings_done',\n",
       "       'out_kind', 'dot_balls_as_batsman', 'order_seen', 'balls_bowled',\n",
       "       'runs_conceded', 'wickets_taken', 'bowled_done', 'lbw_done', 'maidens',\n",
       "       'dot_balls_as_bowler', 'player_team', 'opposition_team', 'name_y',\n",
       "       'unique_name', 'key_bcci', 'key_bcci_2', 'key_bigbash', 'key_cricbuzz',\n",
       "       'key_cricheroes', 'key_crichq', 'key_cricinfo', 'key_cricinfo_2',\n",
       "       'key_cricinfo_3', 'key_cricingif', 'key_cricketarchive',\n",
       "       'key_cricketarchive_2', 'key_cricketworld', 'key_nvplay',\n",
       "       'key_nvplay_2', 'key_opta', 'key_opta_2', 'key_pulse', 'key_pulse_2',\n",
       "       'full_name', 'batting_style', 'bowling_style', 'playing_role', 'teams'],\n",
       "      dtype='object')"
      ]
     },
     "execution_count": 1475,
     "metadata": {},
     "output_type": "execute_result"
    }
   ],
   "source": [
    "df.columns"
   ]
  },
  {
   "cell_type": "code",
   "execution_count": 1476,
   "metadata": {},
   "outputs": [
    {
     "data": {
      "text/plain": [
       "(40814, 45)"
      ]
     },
     "execution_count": 1476,
     "metadata": {},
     "output_type": "execute_result"
    }
   ],
   "source": [
    "df2.shape"
   ]
  },
  {
   "cell_type": "code",
   "execution_count": 1477,
   "metadata": {},
   "outputs": [
    {
     "data": {
      "text/plain": [
       "Index(['match_id', 'innings', 'batting_team', 'runs_off_bat', 'extras',\n",
       "       'wides', 'noballs', 'byes', 'legbyes', 'penalty', 'player_dismissed',\n",
       "       'bowled', 'caught', 'caught and bowled', 'lbw', 'run out',\n",
       "       'balls_per_over', 'city', 'dates', 'event_name', 'match_number',\n",
       "       'gender', 'match_type', 'match_type_number', 'match_referees',\n",
       "       'tv_umpires', 'umpires', 'result', 'player_of_match', 'season',\n",
       "       'team_type', 'teams', 'toss_decision', 'toss_winner', 'venue', 'winner',\n",
       "       'players', 'stumped', 'hit wicket', 'retired hurt', 'retired not out',\n",
       "       'obstructing the field', 'retired out', 'handled the ball',\n",
       "       'hit the ball twice'],\n",
       "      dtype='object')"
      ]
     },
     "execution_count": 1477,
     "metadata": {},
     "output_type": "execute_result"
    }
   ],
   "source": [
    "df2.columns"
   ]
  },
  {
   "cell_type": "code",
   "execution_count": 1478,
   "metadata": {},
   "outputs": [
    {
     "data": {
      "text/plain": [
       "gender\n",
       "male      34118\n",
       "female     6696\n",
       "Name: count, dtype: int64"
      ]
     },
     "execution_count": 1478,
     "metadata": {},
     "output_type": "execute_result"
    }
   ],
   "source": [
    "df2['gender'].value_counts()"
   ]
  },
  {
   "cell_type": "code",
   "execution_count": 1479,
   "metadata": {},
   "outputs": [],
   "source": [
    "def add_stadium(d1, d2):\n",
    "    # Create a dictionary mapping match_id to the last venue\n",
    "    venue_map = d2.groupby('match_id')['venue'].last().to_dict()\n",
    "\n",
    "    # Map match_id in d1 to stadium values using the dictionary\n",
    "    d1['stadium'] = d1['match_id'].map(venue_map)\n",
    "\n",
    "    # Factorize the 'stadium' column for numerical encoding\n",
    "    d1['stadium'], _ = pd.factorize(d1['stadium'])\n",
    "\n",
    "    return d1"
   ]
  },
  {
   "cell_type": "code",
   "execution_count": 1480,
   "metadata": {},
   "outputs": [],
   "source": [
    "df = add_stadium(df, df2)"
   ]
  },
  {
   "cell_type": "code",
   "execution_count": 1481,
   "metadata": {},
   "outputs": [
    {
     "data": {
      "text/plain": [
       "409559"
      ]
     },
     "execution_count": 1481,
     "metadata": {},
     "output_type": "execute_result"
    }
   ],
   "source": [
    "len(df)"
   ]
  },
  {
   "cell_type": "code",
   "execution_count": 1482,
   "metadata": {},
   "outputs": [
    {
     "data": {
      "text/plain": [
       "stadium\n",
       "-1      16384\n",
       " 62      7175\n",
       " 18      7164\n",
       " 330     5413\n",
       " 156     4649\n",
       "        ...  \n",
       " 800       20\n",
       " 762       20\n",
       " 819       19\n",
       " 824       19\n",
       " 720       18\n",
       "Name: count, Length: 828, dtype: int64"
      ]
     },
     "execution_count": 1482,
     "metadata": {},
     "output_type": "execute_result"
    }
   ],
   "source": [
    "df['stadium'].value_counts()"
   ]
  },
  {
   "cell_type": "code",
   "execution_count": 1483,
   "metadata": {},
   "outputs": [
    {
     "data": {
      "text/plain": [
       "match_type\n",
       "T20     248312\n",
       "ODI      63628\n",
       "MDM      37952\n",
       "ODM      33708\n",
       "Test     18919\n",
       "IT20      7040\n",
       "Name: count, dtype: int64"
      ]
     },
     "execution_count": 1483,
     "metadata": {},
     "output_type": "execute_result"
    }
   ],
   "source": [
    "df['match_type'].value_counts()"
   ]
  },
  {
   "cell_type": "code",
   "execution_count": 1484,
   "metadata": {},
   "outputs": [],
   "source": [
    "ODM = df[df['match_type'] == 'ODM']"
   ]
  },
  {
   "cell_type": "code",
   "execution_count": 1485,
   "metadata": {},
   "outputs": [
    {
     "data": {
      "text/plain": [
       "(44, 57)"
      ]
     },
     "execution_count": 1485,
     "metadata": {},
     "output_type": "execute_result"
    }
   ],
   "source": [
    "ODM[ODM['player_team'] == 'India'].shape"
   ]
  },
  {
   "cell_type": "code",
   "execution_count": 1486,
   "metadata": {},
   "outputs": [
    {
     "data": {
      "text/plain": [
       "(0, 57)"
      ]
     },
     "execution_count": 1486,
     "metadata": {},
     "output_type": "execute_result"
    }
   ],
   "source": [
    "ODM[ODM['player_team'] == 'Australia'].shape"
   ]
  },
  {
   "cell_type": "code",
   "execution_count": 1487,
   "metadata": {},
   "outputs": [],
   "source": [
    "ODI = df[df['match_type'] == 'ODI']"
   ]
  },
  {
   "cell_type": "code",
   "execution_count": 1488,
   "metadata": {},
   "outputs": [
    {
     "data": {
      "text/plain": [
       "array(['Australia', 'Bangladesh', 'Scotland', 'Africa XI', 'Kenya',\n",
       "       'India', 'Sri Lanka', 'Papua New Guinea', 'South Africa',\n",
       "       'Namibia', 'ICC World XI', 'England', 'United Arab Emirates',\n",
       "       'Netherlands', 'Hong Kong', 'Zimbabwe', 'New Zealand', 'Pakistan',\n",
       "       'West Indies', 'Bermuda', 'Ireland', 'Canada', 'Oman', 'Thailand',\n",
       "       'United States of America', 'Jersey', 'Asia XI', 'Nepal'],\n",
       "      dtype=object)"
      ]
     },
     "execution_count": 1488,
     "metadata": {},
     "output_type": "execute_result"
    }
   ],
   "source": [
    "ODI['player_team'].unique()"
   ]
  },
  {
   "cell_type": "code",
   "execution_count": 1489,
   "metadata": {},
   "outputs": [],
   "source": [
    "ODI = ODI[\n",
    "    (ODI['player_team'].isin(['Australia', 'India', 'Bangladesh', 'England', 'South Africa', 'Pakistan', 'Afghanistan', 'New Zealand'])) & \n",
    "    (ODI['gender'] == 'male')\n",
    "]"
   ]
  },
  {
   "cell_type": "code",
   "execution_count": 1490,
   "metadata": {},
   "outputs": [
    {
     "data": {
      "text/plain": [
       "(31320, 57)"
      ]
     },
     "execution_count": 1490,
     "metadata": {},
     "output_type": "execute_result"
    }
   ],
   "source": [
    "ODI.shape"
   ]
  },
  {
   "cell_type": "code",
   "execution_count": 1491,
   "metadata": {},
   "outputs": [
    {
     "data": {
      "text/html": [
       "<div>\n",
       "<style scoped>\n",
       "    .dataframe tbody tr th:only-of-type {\n",
       "        vertical-align: middle;\n",
       "    }\n",
       "\n",
       "    .dataframe tbody tr th {\n",
       "        vertical-align: top;\n",
       "    }\n",
       "\n",
       "    .dataframe thead th {\n",
       "        text-align: right;\n",
       "    }\n",
       "</style>\n",
       "<table border=\"1\" class=\"dataframe\">\n",
       "  <thead>\n",
       "    <tr style=\"text-align: right;\">\n",
       "      <th></th>\n",
       "      <th>Unnamed: 0</th>\n",
       "      <th>player_id</th>\n",
       "      <th>match_id</th>\n",
       "      <th>gender</th>\n",
       "      <th>balls_per_over</th>\n",
       "      <th>start_date</th>\n",
       "      <th>series_name</th>\n",
       "      <th>match_type</th>\n",
       "      <th>name_x</th>\n",
       "      <th>runs_scored</th>\n",
       "      <th>...</th>\n",
       "      <th>key_opta</th>\n",
       "      <th>key_opta_2</th>\n",
       "      <th>key_pulse</th>\n",
       "      <th>key_pulse_2</th>\n",
       "      <th>full_name</th>\n",
       "      <th>batting_style</th>\n",
       "      <th>bowling_style</th>\n",
       "      <th>playing_role</th>\n",
       "      <th>teams</th>\n",
       "      <th>stadium</th>\n",
       "    </tr>\n",
       "  </thead>\n",
       "  <tbody>\n",
       "  </tbody>\n",
       "</table>\n",
       "<p>0 rows × 57 columns</p>\n",
       "</div>"
      ],
      "text/plain": [
       "Empty DataFrame\n",
       "Columns: [Unnamed: 0, player_id, match_id, gender, balls_per_over, start_date, series_name, match_type, name_x, runs_scored, player_out, balls_faced, fours_scored, sixes_scored, catches_taken, run_out_direct, run_out_throw, stumpings_done, out_kind, dot_balls_as_batsman, order_seen, balls_bowled, runs_conceded, wickets_taken, bowled_done, lbw_done, maidens, dot_balls_as_bowler, player_team, opposition_team, name_y, unique_name, key_bcci, key_bcci_2, key_bigbash, key_cricbuzz, key_cricheroes, key_crichq, key_cricinfo, key_cricinfo_2, key_cricinfo_3, key_cricingif, key_cricketarchive, key_cricketarchive_2, key_cricketworld, key_nvplay, key_nvplay_2, key_opta, key_opta_2, key_pulse, key_pulse_2, full_name, batting_style, bowling_style, playing_role, teams, stadium]\n",
       "Index: []\n",
       "\n",
       "[0 rows x 57 columns]"
      ]
     },
     "execution_count": 1491,
     "metadata": {},
     "output_type": "execute_result"
    }
   ],
   "source": [
    "df[df['player_team'] == 'Afghanistan']\n",
    "## public data mein afg nahi hai, ig isiliye hoga"
   ]
  },
  {
   "cell_type": "code",
   "execution_count": 1492,
   "metadata": {},
   "outputs": [
    {
     "data": {
      "text/plain": [
       "array(['Sierra Leone', 'Malawi', 'Vanuatu', 'Hong Kong', 'Tripura',\n",
       "       'Brisbane Heat', 'Adelaide Strikers', 'Sylhet Royals', 'Haryana',\n",
       "       'Gibraltar', 'Australia', 'Trinbago Knight Riders',\n",
       "       'Trinidad and Tobago', 'Bangladesh', 'Denmark', 'Boland', 'Fiji',\n",
       "       'Thailand', 'Sunrisers', 'St Lucia Zouks', 'North-West Warriors',\n",
       "       'Singapore', 'Indonesia', 'Jersey', 'Loughborough Lightning',\n",
       "       'England', 'Lightning', 'Birmingham Phoenix', 'Otago', 'The Blaze',\n",
       "       'Trent Rockets', 'Uttarakhand', 'Scotland', 'Central Districts',\n",
       "       'Cook Islands', 'Botswana', 'Samoa', 'Perth Scorchers',\n",
       "       'Lancashire', 'Manchester Originals', 'Norway', 'Bahamas',\n",
       "       'Nottinghamshire', 'Kent', 'Melbourne Stars', 'Gujarat Giants',\n",
       "       'Kenya', 'Rising Pune Supergiant', 'Karnataka', 'Kings XI Punjab',\n",
       "       'Punjab Kings', 'Sunrisers Hyderabad',\n",
       "       'Royal Challengers Bangalore', 'Delhi Daredevils', 'Croatia',\n",
       "       'Sudur Paschim Royals', 'Cayman Islands', 'Thunder', 'Uganda',\n",
       "       'Worcestershire', 'Quetta Gladiators', 'Durham',\n",
       "       'Chennai Super Kings', 'Kolkata Knight Riders', 'Maldives',\n",
       "       'Papua New Guinea', 'Bahrain', 'Japan', 'Southern Vipers',\n",
       "       'Southern Brave', 'Germany', 'Middlesex', 'Austria', 'Romania',\n",
       "       'Czech Republic', 'Sydney Thunder', 'Glamorgan', 'Hampshire',\n",
       "       'Cameroon', 'Lions', 'Jozi Stars', 'North West', 'Dolphins',\n",
       "       'Cape Cobras', 'Goa', 'Namibia', 'Italy', 'India',\n",
       "       'Rajasthan Royals', 'Lahore Qalandars', 'Malta', 'Mozambique',\n",
       "       'Gloucestershire', 'Gujarat', 'Bermuda', 'Kuwait',\n",
       "       'Comilla Victorians', 'Rangpur Rangers', 'Knights',\n",
       "       'Lancashire Thunder', 'Ghana', 'Spain', 'Kandy Falcons',\n",
       "       'Philippines', 'United States of America', 'United Arab Emirates',\n",
       "       'Netherlands', 'China', 'Zimbabwe', 'New Zealand', 'Rajasthan',\n",
       "       'Gujarat Titans', 'Northern Diamonds', 'Warriors', 'Rwanda',\n",
       "       'Hungary', 'Israel', 'Barisal Bulls', 'Khulna Tigers',\n",
       "       'Minister Group Dhaka', 'Sylhet Strikers', 'Chittagong Kings',\n",
       "       'Rangpur Riders', 'Dhaka Dynamites', 'Tanzania',\n",
       "       'Melbourne Renegades', 'Luxembourg', 'Sydney Sixers', 'Gambia',\n",
       "       'Belize', 'Chattogram Challengers', 'Chittagong Vikings', 'Mumbai',\n",
       "       'Pokhara Avengers', 'Eswatini', 'France', 'Hobart Hurricanes',\n",
       "       'Durban Heat', 'Sweden', 'Malaysia', 'Switzerland', 'Munster Reds',\n",
       "       'Leinster Lightning', 'Argentina', 'Canterbury', 'Derbyshire',\n",
       "       'South Africa', 'Belgium', 'Seychelles', 'Trailblazers',\n",
       "       'Hyderabad (India)', 'Cyprus', 'Finland', 'Northern Districts',\n",
       "       'Jaffna Stallions', 'Jaffna Kings', 'MI Emirates',\n",
       "       'Abu Dhabi Knight Riders', 'Arunachal Pradesh', 'Mexico', 'Punjab',\n",
       "       'Isle of Man', 'Kathmandu Gurkhas', 'Fortune Barishal', 'Nigeria',\n",
       "       'Sylhet Sixers', 'Jamaica Tallawahs', 'Rajshahi Royals',\n",
       "       'Galle Titans', 'Dhaka Capital', 'Dhaka Gladiators',\n",
       "       'Chhattisgarh', 'Surrey Stars', 'South East Stars',\n",
       "       'Oval Invincibles', 'Delhi Capitals', 'Welsh Fire',\n",
       "       'Durdanto Dhaka', 'Durbar Rajshahi', 'Northern Knights', 'Estonia',\n",
       "       'Kerala', 'Mumbai Indians', 'Assam', 'Serbia', 'Nagaland',\n",
       "       'Portugal', 'Karnali Yaks', 'Bhutan', 'Leeward Islands',\n",
       "       'Mongolia', 'Myanmar', 'Sri Lanka', 'Mizoram', 'Saudi Arabia',\n",
       "       'Wellington', 'Somerset', 'Tshwane Spartans', 'London Spirit',\n",
       "       'Northern Superchargers', 'Sunrisers Eastern Cape',\n",
       "       'Barbados Royals', 'Dubai Capitals', 'Titans', 'Baroda',\n",
       "       'Cambodia', 'Islamabad United', 'Pakistan', 'Jammu & Kashmir',\n",
       "       'Nepal', 'Ireland', 'Surrey', 'Desert Vipers', 'Deccan Chargers',\n",
       "       'Leicestershire', 'Chile', 'Sylhet Thunder',\n",
       "       'Khulna Royal Bengals', 'Sylhet Super Stars', 'Greece', 'Manipur',\n",
       "       'Andhra', 'Guernsey', 'Lesotho', 'St Helena', 'Peshawar Zalmi',\n",
       "       'Karachi Kings', 'Joburg Super Kings', 'Sharjah Warriors',\n",
       "       'MI Cape Town', 'Bulgaria', 'Colombo Kings', 'Dambulla Giants',\n",
       "       'Galle Gladiators', 'Colombo Strikers', 'Dambulla Sixers',\n",
       "       'Costa Rica', 'Northamptonshire', 'Oman', 'Spirit', 'Chandigarh',\n",
       "       'Himachal', 'Turkey', 'Kandy Tuskers', 'Kandy Warriors',\n",
       "       'B-Love Kandy', 'Odisha', 'Khulna Titans', 'Multan Sultans',\n",
       "       'Western Province', 'Paarl Royals', 'St Kitts and Nevis Patriots',\n",
       "       'West Indies', 'Antigua Hawksbills', 'Yorkshire Diamonds',\n",
       "       'Biratnagar Kings', 'Western Storm', 'Barisal Burners', 'Brazil',\n",
       "       'Ivory Coast', 'Sharjah Warriorz', 'Tamil Nadu', 'Saurashtra',\n",
       "       'Maharashtra', 'St Lucia Stars', 'Rajshahi Kings',\n",
       "       'Barbados Tridents', 'St Lucia Kings', 'Colombo Stars',\n",
       "       'Jharkhand', 'Cape Town Blitz', 'Dhaka Platoon', 'Delhi',\n",
       "       'Uttar Pradesh', 'Bengal', 'Royal Challengers Bengaluru', 'Sussex',\n",
       "       'Pune Warriors', 'Yorkshire', \"Durban's Super Giants\", 'Sapphires',\n",
       "       'Lumbini Lions', 'Guyana Amazon Warriors', 'Pretoria Capitals',\n",
       "       'Panama', 'Seattle Orcas', 'Kochi Tuskers Kerala', 'Warwickshire',\n",
       "       'Birmingham Bears', 'Los Angeles Knight Riders', 'South Korea',\n",
       "       'Supernovas', 'Velocity', 'Services', 'Auckland', 'ICC World XI',\n",
       "       'UP Warriorz', 'Lucknow Super Giants',\n",
       "       'Trinidad & Tobago Red Steel', 'Gulf Giants', 'Vidarbha',\n",
       "       'Madhya Pradesh', 'Rising Pune Supergiants', 'Cumilla Warriors',\n",
       "       'Sylhet Sunrisers', 'Meghalaya', 'KwaZulu-Natal Inland',\n",
       "       'Swaziland', 'Barmy Army', 'Dambulla Aura', 'Warriors (FairBreak)',\n",
       "       'Falcons', 'Railways', 'Nelson Mandela Bay Giants', 'Canada',\n",
       "       'Paarl Rocks', 'Galle Marvels', 'Impi', 'Washington Freedom',\n",
       "       'Qatar', 'Sikkim', 'Puducherry', 'Essex', 'Suriname', 'Barbados',\n",
       "       'Antigua and Barbuda Falcons', 'Duronto Rajshahi', 'Guyana',\n",
       "       'Dambulla Viiking', 'Slovenia', 'Jamaica', 'Gujarat Lions',\n",
       "       'Janakpur Bolts', 'Central Sparks', 'Dhaka Dominators', 'Bihar',\n",
       "       'MI New York', 'San Francisco Unicorns', 'Himachal Pradesh',\n",
       "       'Mali', 'Texas Super Kings', 'Tornadoes', 'Iran',\n",
       "       'Windward Islands', 'Chitwan Rhinos'], dtype=object)"
      ]
     },
     "execution_count": 1492,
     "metadata": {},
     "output_type": "execute_result"
    }
   ],
   "source": [
    "T20 = df[df['match_type'] == 'T20']\n",
    "T20['player_team'].unique()"
   ]
  },
  {
   "cell_type": "code",
   "execution_count": 1493,
   "metadata": {},
   "outputs": [],
   "source": [
    "T20 = T20[\n",
    "    (T20['player_team'].isin(['Australia', 'India', 'Bangladesh', 'England', 'South Africa', 'Pakistan', 'Afghanistan', 'New Zealand'])) & \n",
    "    (T20['gender'] == 'male')\n",
    "]"
   ]
  },
  {
   "cell_type": "code",
   "execution_count": 1494,
   "metadata": {},
   "outputs": [
    {
     "data": {
      "text/plain": [
       "(16097, 57)"
      ]
     },
     "execution_count": 1494,
     "metadata": {},
     "output_type": "execute_result"
    }
   ],
   "source": [
    "T20.shape"
   ]
  },
  {
   "cell_type": "code",
   "execution_count": 1495,
   "metadata": {},
   "outputs": [],
   "source": [
    "it20 = df[df['match_type'] == 'IT20']\n",
    "it20=it20[\n",
    "    (it20['player_team'].isin(['Australia', 'India', 'Bangladesh', 'England', 'South Africa', 'Pakistan', 'Afghanistan', 'New Zealand'])) & \n",
    "    (it20['gender'] == 'male')\n",
    "]"
   ]
  },
  {
   "cell_type": "code",
   "execution_count": 1496,
   "metadata": {},
   "outputs": [],
   "source": [
    "T20 = pd.concat([T20,it20])\n",
    "T20 = T20.reset_index(drop=True)"
   ]
  },
  {
   "cell_type": "code",
   "execution_count": 1497,
   "metadata": {},
   "outputs": [
    {
     "data": {
      "text/plain": [
       "array(['Australia', 'England', 'India', 'Sri Lanka', 'ICC World XI',\n",
       "       'Zimbabwe', 'Bangladesh', 'New Zealand', 'South Africa',\n",
       "       'Pakistan', 'Ireland', 'West Indies'], dtype=object)"
      ]
     },
     "execution_count": 1497,
     "metadata": {},
     "output_type": "execute_result"
    }
   ],
   "source": [
    "test = df[df['match_type'] == 'Test']\n",
    "test['player_team'].unique()"
   ]
  },
  {
   "cell_type": "code",
   "execution_count": 1498,
   "metadata": {},
   "outputs": [],
   "source": [
    "test=test[\n",
    "    (test['player_team'].isin(['Australia', 'India', 'Bangladesh', 'England', 'South Africa', 'Pakistan', 'Afghanistan', 'New Zealand'])) & \n",
    "    (test['gender'] == 'male')\n",
    "]"
   ]
  },
  {
   "cell_type": "code",
   "execution_count": 1499,
   "metadata": {},
   "outputs": [],
   "source": [
    "ODI = ODI.sort_values(by='start_date').reset_index(drop=True)\n",
    "T20 = T20.sort_values(by='start_date').reset_index(drop=True)\n",
    "test = test.sort_values(by='start_date').reset_index(drop=True)"
   ]
  },
  {
   "cell_type": "markdown",
   "metadata": {},
   "source": [
    "#### Now I'll add any remaining matches that players have played"
   ]
  },
  {
   "cell_type": "code",
   "execution_count": 1501,
   "metadata": {},
   "outputs": [
    {
     "data": {
      "text/plain": [
       "Index(['Unnamed: 0', 'player_id', 'match_id', 'gender', 'balls_per_over',\n",
       "       'start_date', 'series_name', 'match_type', 'name_x', 'runs_scored',\n",
       "       'player_out', 'balls_faced', 'fours_scored', 'sixes_scored',\n",
       "       'catches_taken', 'run_out_direct', 'run_out_throw', 'stumpings_done',\n",
       "       'out_kind', 'dot_balls_as_batsman', 'order_seen', 'balls_bowled',\n",
       "       'runs_conceded', 'wickets_taken', 'bowled_done', 'lbw_done', 'maidens',\n",
       "       'dot_balls_as_bowler', 'player_team', 'opposition_team', 'name_y',\n",
       "       'unique_name', 'key_bcci', 'key_bcci_2', 'key_bigbash', 'key_cricbuzz',\n",
       "       'key_cricheroes', 'key_crichq', 'key_cricinfo', 'key_cricinfo_2',\n",
       "       'key_cricinfo_3', 'key_cricingif', 'key_cricketarchive',\n",
       "       'key_cricketarchive_2', 'key_cricketworld', 'key_nvplay',\n",
       "       'key_nvplay_2', 'key_opta', 'key_opta_2', 'key_pulse', 'key_pulse_2',\n",
       "       'full_name', 'batting_style', 'bowling_style', 'playing_role', 'teams',\n",
       "       'stadium'],\n",
       "      dtype='object')"
      ]
     },
     "execution_count": 1501,
     "metadata": {},
     "output_type": "execute_result"
    }
   ],
   "source": [
    "ODI.columns"
   ]
  },
  {
   "cell_type": "code",
   "execution_count": 1502,
   "metadata": {},
   "outputs": [],
   "source": [
    "players_added = set()"
   ]
  },
  {
   "cell_type": "code",
   "execution_count": 1503,
   "metadata": {},
   "outputs": [
    {
     "data": {
      "text/plain": [
       "stadium\n",
       "-1      16384\n",
       " 62      7175\n",
       " 18      7164\n",
       " 330     5413\n",
       " 156     4649\n",
       "        ...  \n",
       " 800       20\n",
       " 762       20\n",
       " 819       19\n",
       " 824       19\n",
       " 720       18\n",
       "Name: count, Length: 828, dtype: int64"
      ]
     },
     "execution_count": 1503,
     "metadata": {},
     "output_type": "execute_result"
    }
   ],
   "source": [
    "df['stadium'].value_counts()"
   ]
  },
  {
   "cell_type": "code",
   "execution_count": 1504,
   "metadata": {},
   "outputs": [],
   "source": [
    "def add_remaining_matches(useful_data ,data, players_added, players):\n",
    "    print(f\"Initial Shape : {useful_data.shape}\")\n",
    "    new_data = pd.DataFrame(columns = data.columns)\n",
    "\n",
    "    for player in players:\n",
    "        if not player in players_added:\n",
    "            temp = data[(data['player_id'] == player) & ~(data['player_team'].isin(['Australia', 'India', 'Bangladesh', 'England', 'South Africa', 'Pakistan', 'Afghanistan', 'New Zealand']))]\n",
    "            if not temp.empty:\n",
    "                new_data = pd.concat([new_data, temp])\n",
    "            players_added.add(player)\n",
    "    \n",
    "    if new_data.empty:\n",
    "        print(f\"Final Shape : {useful_data.shape}\")\n",
    "        return useful_data\n",
    "\n",
    "    useful_data = pd.concat([useful_data, new_data])\n",
    "    print(f\"Final Shape : {useful_data.shape}\")\n",
    "\n",
    "    return useful_data   "
   ]
  },
  {
   "cell_type": "code",
   "execution_count": null,
   "metadata": {},
   "outputs": [
    {
     "name": "stdout",
     "output_type": "stream",
     "text": [
      "Initial Shape : (31320, 57)\n"
     ]
    },
    {
     "name": "stderr",
     "output_type": "stream",
     "text": [
      "/var/folders/s8/l066lscn1192jjqlcbvxsyz40000gn/T/ipykernel_76793/3070751945.py:9: FutureWarning: The behavior of DataFrame concatenation with empty or all-NA entries is deprecated. In a future version, this will no longer exclude empty or all-NA columns when determining the result dtypes. To retain the old behavior, exclude the relevant entries before the concat operation.\n",
      "  new_data = pd.concat([new_data, temp])\n"
     ]
    }
   ],
   "source": [
    "ODI = add_remaining_matches(ODI, df, players_added, ODI['player_id'].unique())"
   ]
  },
  {
   "cell_type": "code",
   "execution_count": null,
   "metadata": {},
   "outputs": [],
   "source": [
    "T20 = add_remaining_matches(T20, df ,players_added, T20['player_id'].unique())"
   ]
  },
  {
   "cell_type": "code",
   "execution_count": null,
   "metadata": {},
   "outputs": [],
   "source": [
    "test = add_remaining_matches(test, df, players_added, test['player_id'].unique())"
   ]
  },
  {
   "cell_type": "code",
   "execution_count": null,
   "metadata": {},
   "outputs": [],
   "source": [
    "ODI = ODI.sort_values(by='start_date').reset_index(drop=True)\n",
    "T20 = T20.sort_values(by='start_date').reset_index(drop=True)\n",
    "test = test.sort_values(by='start_date').reset_index(drop=True)"
   ]
  },
  {
   "cell_type": "markdown",
   "metadata": {},
   "source": [
    "#### Now we have combined domestic & international data for the players. Now we calculate fantasy scores"
   ]
  },
  {
   "cell_type": "code",
   "execution_count": null,
   "metadata": {},
   "outputs": [],
   "source": [
    "def calculate_fantasy_scores(df):\n",
    "    df['fantasy_score_batting'] = 0\n",
    "    df['fantasy_score_bowling'] = 0\n",
    "    df['fantasy_score_total'] = 0\n",
    "    for index, row in df.iterrows():\n",
    "        # Batting fantasy score calculation\n",
    "        runs_scored = row['runs_scored']\n",
    "        balls_faced = row['balls_faced']\n",
    "        fours_scored = row['fours_scored']\n",
    "        sixes_scored = row['sixes_scored']\n",
    "        catches_taken = row['catches_taken']\n",
    "        match_type = row['match_type']\n",
    "        series = row['series_name']\n",
    "        player_out = row['player_out']\n",
    "        stumpings = row['stumpings_done']\n",
    "        fantasy_playing=0\n",
    "        fantasy_batting = 0\n",
    "        if match_type in ['T20', 'IT20']:\n",
    "            if(match_type == 'T20'):\n",
    "                fantasy_playing=4\n",
    "            fantasy_batting = 1*runs_scored + 1*(fours_scored) + 2*(sixes_scored) + 12*stumpings\n",
    "            if runs_scored >= 100:\n",
    "                fantasy_batting += 16\n",
    "            elif runs_scored >= 50:\n",
    "                fantasy_batting += 8\n",
    "            elif runs_scored >= 30:\n",
    "                fantasy_batting += 4\n",
    "\n",
    "            if runs_scored == 0 and player_out:\n",
    "                fantasy_batting -= 2\n",
    "\n",
    "            if balls_faced >= 10:\n",
    "                strike_rate = (runs_scored / balls_faced) * 100\n",
    "                if strike_rate < 50:\n",
    "                    fantasy_batting -= 6\n",
    "                elif strike_rate < 60:\n",
    "                    fantasy_batting -= 4\n",
    "                elif strike_rate <= 70:\n",
    "                    fantasy_batting -= 2\n",
    "                elif strike_rate > 170:\n",
    "                    fantasy_batting += 6\n",
    "                elif strike_rate > 150:\n",
    "                    fantasy_batting += 4\n",
    "                elif strike_rate >= 130:\n",
    "                    fantasy_batting += 2\n",
    "\n",
    "        elif match_type in ['ODI', 'ODM']:\n",
    "            if(match_type == 'ODI'):\n",
    "                fantasy_playing=4\n",
    "            fantasy_batting = 1*runs_scored + 1*(fours_scored) + 2*(sixes_scored) + 12*stumpings\n",
    "            if runs_scored >= 100:\n",
    "                fantasy_batting += 8\n",
    "            elif runs_scored >= 50:\n",
    "                fantasy_batting += 4\n",
    "\n",
    "            if runs_scored == 0 and player_out:\n",
    "                fantasy_batting -= 3\n",
    "\n",
    "            if balls_faced >= 20:\n",
    "                strike_rate = (runs_scored / balls_faced) * 100\n",
    "                if strike_rate < 30:\n",
    "                    fantasy_batting -= 6\n",
    "                elif strike_rate < 40:\n",
    "                    fantasy_batting -= 4\n",
    "                elif strike_rate <= 50:\n",
    "                    fantasy_batting -= 2\n",
    "                elif strike_rate > 140:\n",
    "                    fantasy_batting += 6\n",
    "                elif strike_rate > 120:\n",
    "                    fantasy_batting += 4\n",
    "                elif strike_rate >= 100:\n",
    "                    fantasy_batting += 2\n",
    "\n",
    "        elif match_type in ['Test', 'MDM']:\n",
    "            if(match_type == 'Test'):\n",
    "                fantasy_playing=4\n",
    "            fantasy_batting = 1*runs_scored + 1*(fours_scored) + 2*(sixes_scored) + 12*stumpings\n",
    "            if runs_scored >= 100:\n",
    "                fantasy_batting += 8\n",
    "            elif runs_scored >= 50:\n",
    "                fantasy_batting += 4\n",
    "\n",
    "            if runs_scored == 0 and player_out:\n",
    "                fantasy_batting -= 4\n",
    "\n",
    "        elif match_type == 'T10':\n",
    "            fantasy_playing=4\n",
    "            fantasy_batting = 1*runs_scored + 1*(fours_scored) + 2*(sixes_scored) + 12*stumpings\n",
    "            if runs_scored >= 50:\n",
    "                fantasy_batting += 16\n",
    "            elif runs_scored >= 30:\n",
    "                fantasy_batting += 8\n",
    "\n",
    "            if runs_scored == 0 and player_out:\n",
    "                fantasy_batting -= 2\n",
    "\n",
    "            if balls_faced >= 5:\n",
    "                strike_rate = (runs_scored / balls_faced) * 100\n",
    "                if strike_rate < 60:\n",
    "                    fantasy_batting -= 6\n",
    "                elif strike_rate < 70:\n",
    "                    fantasy_batting -= 4\n",
    "                elif strike_rate <= 80:\n",
    "                    fantasy_batting -= 2\n",
    "                elif strike_rate > 190:\n",
    "                    fantasy_batting += 6\n",
    "                elif strike_rate > 170:\n",
    "                    fantasy_batting += 4\n",
    "                elif strike_rate >= 150:\n",
    "                    fantasy_batting += 2\n",
    "\n",
    "        elif series == '6ixty':\n",
    "            fantasy_playing=4\n",
    "            fantasy_batting = 1*runs_scored + 1*(fours_scored) + 2*(sixes_scored) + 12*stumpings\n",
    "            if runs_scored >= 50:\n",
    "                fantasy_batting += 16\n",
    "            elif runs_scored >= 30:\n",
    "                fantasy_batting += 8\n",
    "\n",
    "            if runs_scored == 0 and player_out:\n",
    "                fantasy_batting -= 2\n",
    "\n",
    "            if balls_faced >= 5:\n",
    "                strike_rate = (runs_scored / balls_faced) * 100\n",
    "                if strike_rate < 60:\n",
    "                    fantasy_batting -= 6\n",
    "                elif strike_rate < 70:\n",
    "                    fantasy_batting -= 4\n",
    "                elif strike_rate <= 80:\n",
    "                    fantasy_batting -= 2\n",
    "                elif strike_rate > 190:\n",
    "                    fantasy_batting += 6\n",
    "                elif strike_rate > 170:\n",
    "                    fantasy_batting += 4\n",
    "                elif strike_rate >= 150:\n",
    "                    fantasy_batting += 2\n",
    "        elif series == '6ixty':\n",
    "            fantasy_playing=4\n",
    "            fantasy_batting = 1*runs_scored + 1*(fours_scored) + 2*(sixes_scored) + 12*stumpings\n",
    "            if runs_scored >= 50:\n",
    "                fantasy_batting += 16\n",
    "            elif runs_scored >= 30:\n",
    "                fantasy_batting += 8\n",
    "\n",
    "            if runs_scored == 0 and player_out:\n",
    "                fantasy_batting -= 2\n",
    "\n",
    "            if balls_faced >= 5:\n",
    "                strike_rate = (runs_scored / balls_faced) * 100\n",
    "                if strike_rate < 60:\n",
    "                    fantasy_batting -= 6\n",
    "                elif strike_rate < 70:\n",
    "                    fantasy_batting -= 4\n",
    "                elif strike_rate <= 80:\n",
    "                    fantasy_batting -= 2\n",
    "                elif strike_rate > 190:\n",
    "                    fantasy_batting += 6\n",
    "                elif strike_rate > 170:\n",
    "                    fantasy_batting += 4\n",
    "                elif strike_rate >= 150:\n",
    "                    fantasy_batting += 2\n",
    "        elif series == 'The100':\n",
    "            fantasy_playing=4\n",
    "            fantasy_batting = 1*runs_scored + 1*(fours_scored) + 2*(sixes_scored) + 12*stumpings\n",
    "            if runs_scored >= 100:\n",
    "                fantasy_batting += 20\n",
    "            elif runs_scored >= 50:\n",
    "                fantasy_batting += 10\n",
    "            elif runs_scored >= 30:\n",
    "                fantasy_batting += 5\n",
    "\n",
    "            if runs_scored == 0 and player_out:\n",
    "                fantasy_batting -= 2\n",
    "\n",
    "        df.at[index, 'fantasy_score_batting'] = fantasy_batting\n",
    "\n",
    "        # Bowling fantasy score calculation\n",
    "        balls_bowled = row['balls_bowled']\n",
    "        runs_conceded = row['runs_conceded']\n",
    "        wickets_taken = row['wickets_taken']\n",
    "        maidens = row['maidens']\n",
    "        bowled_done = row['bowled_done']\n",
    "        lbw_done = row['lbw_done']\n",
    "        run_out_direct = row['run_out_direct']\n",
    "        run_out_throw = row['run_out_throw']\n",
    "\n",
    "        fantasy_bowling = 0\n",
    "\n",
    "        if match_type in ['T20', 'IT20']:\n",
    "          fantasy_bowling = 25*(wickets_taken) + 8*(lbw_done+bowled_done) + 12*maidens + 8*catches_taken\n",
    "          if wickets_taken >= 5:\n",
    "              fantasy_bowling += 16\n",
    "          elif wickets_taken >= 4:\n",
    "              fantasy_bowling += 8\n",
    "          elif wickets_taken >= 3:\n",
    "              fantasy_bowling += 4\n",
    "\n",
    "          if catches_taken >= 3:\n",
    "              fantasy_bowling += 4\n",
    "\n",
    "          if balls_bowled >= 12:\n",
    "              economy_rate = (runs_conceded / balls_bowled) * 6\n",
    "              if economy_rate < 5:\n",
    "                  fantasy_bowling += 6\n",
    "              elif economy_rate < 6:\n",
    "                  fantasy_bowling += 4\n",
    "              elif economy_rate <= 7:\n",
    "                  fantasy_bowling += 2\n",
    "              elif economy_rate > 12:\n",
    "                  fantasy_bowling -= 6\n",
    "              elif economy_rate > 11:\n",
    "                  fantasy_bowling -= 4\n",
    "              elif economy_rate >= 10:\n",
    "                  fantasy_bowling -= 2\n",
    "          fantasy_bowling += run_out_throw*6 + run_out_direct*12\n",
    "\n",
    "        elif match_type in ['ODI', 'ODM']:\n",
    "            fantasy_bowling = 25*(wickets_taken) + 8*(lbw_done+bowled_done) + 4*maidens + 8*catches_taken\n",
    "            if wickets_taken >= 5:\n",
    "                fantasy_bowling += 8\n",
    "            elif wickets_taken >= 4:\n",
    "                fantasy_bowling += 4\n",
    "\n",
    "            if catches_taken >= 3:\n",
    "                fantasy_bowling += 4\n",
    "\n",
    "            if balls_bowled >= 30:\n",
    "                economy_rate = (runs_conceded / balls_bowled) * 6\n",
    "                if economy_rate < 2.5:\n",
    "                    fantasy_bowling += 6\n",
    "                elif economy_rate < 3.5:\n",
    "                    fantasy_bowling += 4\n",
    "                elif economy_rate <= 4.5:\n",
    "                    fantasy_bowling += 2\n",
    "                elif economy_rate > 9:\n",
    "                    fantasy_bowling -= 6\n",
    "                elif economy_rate > 8:\n",
    "                    fantasy_bowling -= 4\n",
    "                elif economy_rate >= 7:\n",
    "                    fantasy_bowling -= 2\n",
    "            fantasy_bowling += run_out_throw*6 + run_out_direct*12\n",
    "\n",
    "        elif match_type in ['Test', 'MDM']:\n",
    "            fantasy_bowling = 16*(wickets_taken) + 8*(lbw_done+bowled_done) + 8*catches_taken\n",
    "            if wickets_taken >= 5:\n",
    "                fantasy_bowling += 8\n",
    "            elif wickets_taken >= 4:\n",
    "                fantasy_bowling += 4\n",
    "            fantasy_bowling += run_out_throw*6 + run_out_direct*12\n",
    "\n",
    "        elif match_type == 'T10':\n",
    "            fantasy_bowling = 25*(wickets_taken) + 8*(lbw_done+bowled_done) + 16*maidens + 8*catches_taken\n",
    "            if wickets_taken >= 3:\n",
    "                fantasy_bowling += 16\n",
    "            elif wickets_taken >= 2:\n",
    "                fantasy_bowling += 8\n",
    "\n",
    "            if balls_bowled >= 6:\n",
    "                economy_rate = (runs_conceded / balls_bowled) * 6\n",
    "                if economy_rate < 7:\n",
    "                    fantasy_bowling += 6\n",
    "                elif economy_rate < 8:\n",
    "                    fantasy_bowling += 4\n",
    "                elif economy_rate <= 9:\n",
    "                    fantasy_bowling += 2\n",
    "                elif economy_rate > 16:\n",
    "                    fantasy_bowling -= 6\n",
    "                elif economy_rate > 15:\n",
    "                    fantasy_bowling -= 4\n",
    "                elif economy_rate >= 14:\n",
    "                    fantasy_bowling -= 2\n",
    "            fantasy_bowling += run_out_throw*6 + run_out_direct*12\n",
    "\n",
    "            if catches_taken >= 3:\n",
    "                fantasy_bowling += 4\n",
    "        elif match_type == '6ixty':\n",
    "            fantasy_bowling = 25*(wickets_taken) + 8*(lbw_done+bowled_done) + 16*maidens + 8*catches_taken\n",
    "            if wickets_taken >= 3:\n",
    "                fantasy_bowling += 16\n",
    "            elif wickets_taken >= 2:\n",
    "                fantasy_bowling += 8\n",
    "\n",
    "            if balls_bowled >= 6:\n",
    "                economy_rate = (runs_conceded / balls_bowled) * 6\n",
    "                if economy_rate < 7:\n",
    "                    fantasy_bowling += 6\n",
    "                elif economy_rate < 8:\n",
    "                    fantasy_bowling += 4\n",
    "                elif economy_rate <= 9:\n",
    "                    fantasy_bowling += 2\n",
    "                elif economy_rate > 16:\n",
    "                    fantasy_bowling -= 6\n",
    "                elif economy_rate > 15:\n",
    "                    fantasy_bowling -= 4\n",
    "                elif economy_rate >= 14:\n",
    "                    fantasy_bowling -= 2\n",
    "            fantasy_bowling += run_out_throw*6 + run_out_direct*12\n",
    "\n",
    "            if catches_taken >= 3:\n",
    "                fantasy_bowling += 4\n",
    "\n",
    "        elif match_type == 'The100':\n",
    "            fantasy_bowling = 25*(wickets_taken) + 8*(lbw_done+bowled_done) + 8*catches_taken\n",
    "            if wickets_taken >= 5:\n",
    "                fantasy_bowling += 20\n",
    "            elif wickets_taken >= 4:\n",
    "                fantasy_bowling += 10\n",
    "            elif wickets_taken >= 3:\n",
    "                fantasy_bowling += 5\n",
    "            elif wickets_taken >= 2:\n",
    "                fantasy_bowling += 3\n",
    "            fantasy_bowling += run_out_throw*6 + run_out_direct*12\n",
    "\n",
    "            if catches_taken >= 3:\n",
    "                fantasy_bowling += 4\n",
    "\n",
    "        df.at[index, 'fantasy_score_bowling'] = fantasy_bowling\n",
    "        df.at[index, 'fantasy_score_total'] = fantasy_playing\n",
    "    df['fantasy_score_total'] = df['fantasy_score_batting'] + df['fantasy_score_bowling']+df['fantasy_score_total']\n",
    "    return df"
   ]
  },
  {
   "cell_type": "code",
   "execution_count": null,
   "metadata": {},
   "outputs": [],
   "source": [
    "ODI=calculate_fantasy_scores(ODI)\n",
    "T20=calculate_fantasy_scores(T20)\n",
    "test=calculate_fantasy_scores(test)"
   ]
  },
  {
   "cell_type": "markdown",
   "metadata": {},
   "source": [
    "### Feature Generation"
   ]
  },
  {
   "cell_type": "code",
   "execution_count": null,
   "metadata": {},
   "outputs": [],
   "source": [
    "def prepare_data(data, cutoff_date):\n",
    "    \"\"\"Prepare and sort data, set date format, and apply cutoff date.\"\"\"\n",
    "    data['start_date'] = pd.to_datetime(data['start_date'])  # Ensure 'start_date' is in datetime format\n",
    "    data = data.sort_values(['player_id', 'match_type', 'start_date'])\n",
    "    return data[data['start_date'] < cutoff_date]"
   ]
  },
  {
   "cell_type": "code",
   "execution_count": null,
   "metadata": {},
   "outputs": [],
   "source": [
    "def calculate_rolling_fantasy_score(group):\n",
    "    \"\"\"Calculate the rolling average of fantasy scores.\"\"\"\n",
    "    group['avg_fantasy_score_1'] = group['fantasy_score_total'].shift().rolling(1, min_periods=1).mean()\n",
    "    group['avg_fantasy_score_5'] = group['fantasy_score_total'].shift().rolling(5, min_periods=1).mean()\n",
    "    group['avg_fantasy_score_10'] = group['fantasy_score_total'].shift().rolling(10, min_periods=1).mean()\n",
    "    group['avg_fantasy_score_15'] = group['fantasy_score_total'].shift().rolling(15, min_periods=1).mean()\n",
    "    group['avg_fantasy_score_20'] = group['fantasy_score_total'].shift().rolling(20, min_periods=1).mean()\n",
    "    \n",
    "    return group  # ✅ Ensure function returns the modified DataFrame"
   ]
  },
  {
   "cell_type": "code",
   "execution_count": null,
   "metadata": {},
   "outputs": [],
   "source": [
    "# yaha tak toh no look forward"
   ]
  },
  {
   "cell_type": "code",
   "execution_count": null,
   "metadata": {},
   "outputs": [],
   "source": [
    "def player_features(data, n1,n2,n3, cutoff_date):\n",
    "    \"\"\"Main function to calculate player features using helper functions.\"\"\"\n",
    "    cutoff_date = pd.to_datetime(cutoff_date)\n",
    "    data = prepare_data(data, cutoff_date)\n",
    "\n",
    "    feature_data = []\n",
    "\n",
    "    for (name, match_type), group in data.groupby(['player_id', 'match_type']):\n",
    "        group = group.sort_values('start_date')\n",
    "        group = calculate_rolling_fantasy_score(group)\n",
    "        feature_data.append(group[['player_id','match_id' , 'start_date', 'avg_fantasy_score_1','avg_fantasy_score_5','avg_fantasy_score_10','avg_fantasy_score_15','avg_fantasy_score_20']])\n",
    "\n",
    "    result_df = pd.concat(feature_data)\n",
    "    result_df = result_df.reset_index(drop=True)  # Reset index and drop old index\n",
    "\n",
    "    return result_df"
   ]
  },
  {
   "cell_type": "code",
   "execution_count": null,
   "metadata": {},
   "outputs": [],
   "source": [
    "# Ensure that 'start_date' columns are in datetime format\n",
    "ODI['start_date'] = pd.to_datetime(ODI['start_date'])\n",
    "T20['start_date'] = pd.to_datetime(T20['start_date'])\n",
    "\n",
    "# Preprocess the T20 data to create a mapping of player_ids to their sorted match dates and fantasy scores\n",
    "player_t20_data = {}\n",
    "\n",
    "# Get unique player_ids in T20 data\n",
    "players_in_t20 = T20['player_id'].unique()\n",
    "\n",
    "for player_id in players_in_t20:\n",
    "    # Filter T20 data for the current player\n",
    "    player_data = T20[T20['player_id'] == player_id].copy()\n",
    "    # Sort the player's data by 'start_date'\n",
    "    player_data.sort_values('start_date', inplace=True)\n",
    "    # Ensure 'start_date' is datetime and no missing values\n",
    "    player_data = player_data[player_data['start_date'].notnull()]\n",
    "    # Extract the dates and fantasy scores as pandas Series\n",
    "    dates = player_data['start_date']\n",
    "    scores = player_data['fantasy_score_total']\n",
    "    # Store the Series in a dictionary with player_id as the key\n",
    "    player_t20_data[player_id] = {'dates': dates, 'scores': scores}\n",
    "\n",
    "# Define the list of n values\n",
    "n_values = [1, 5, 10, 15, 20]\n",
    "\n",
    "# Define a function to compute the rolling mean for each ODI match row\n",
    "def get_last_n_t20_mean(row, n):\n",
    "    player_id = row['player_id']\n",
    "    date = row['start_date']\n",
    "\n",
    "    # Check if the player exists in T20 data\n",
    "    if player_id not in player_t20_data:\n",
    "        return np.nan  # Player has no T20 data; return NaN\n",
    "\n",
    "    t20_dates = player_t20_data[player_id]['dates']\n",
    "    t20_scores = player_t20_data[player_id]['scores']\n",
    "\n",
    "    # Ensure that date is not NaT\n",
    "    if pd.isna(date):\n",
    "        return np.nan\n",
    "\n",
    "    # Find the index where the ODI match date would fit in the player's T20 dates\n",
    "    idx = t20_dates.searchsorted(date)\n",
    "    # Determine the indices for the last n matches before the ODI match date\n",
    "    start_idx = max(0, idx - n)\n",
    "    end_idx = idx  # up to but not including idx\n",
    "    scores_to_use = t20_scores.iloc[start_idx:end_idx]\n",
    "\n",
    "    # Check if there are any matches to compute the mean\n",
    "    if len(scores_to_use) == 0:\n",
    "        return np.nan  # No prior matches; return NaN\n",
    "    else:\n",
    "        # Compute and return the mean of the last n T20 fantasy scores\n",
    "        return scores_to_use.mean()"
   ]
  },
  {
   "cell_type": "code",
   "execution_count": null,
   "metadata": {},
   "outputs": [],
   "source": [
    "results = player_features(ODI, 3, 7, 12, cutoff_date)\n",
    "df = ODI.merge(results, on = ['player_id', 'start_date', 'match_id'], how = 'left')"
   ]
  },
  {
   "cell_type": "code",
   "execution_count": null,
   "metadata": {},
   "outputs": [],
   "source": [
    "num_unique_combinations = ODI[['player_id', 'start_date','match_type','match_id']].drop_duplicates().shape[0]\n",
    "num_unique_combinations"
   ]
  },
  {
   "cell_type": "code",
   "execution_count": null,
   "metadata": {},
   "outputs": [],
   "source": [
    "results.shape"
   ]
  },
  {
   "cell_type": "code",
   "execution_count": null,
   "metadata": {},
   "outputs": [],
   "source": [
    "results.columns"
   ]
  },
  {
   "cell_type": "code",
   "execution_count": null,
   "metadata": {},
   "outputs": [],
   "source": [
    "for n in n_values:\n",
    "    col_name = f'last_{n}_t20_mean'\n",
    "    print(f\"Calculating rolling mean for n={n}\")\n",
    "    df[col_name] = df.apply(get_last_n_t20_mean, axis=1, args=(n,))"
   ]
  },
  {
   "cell_type": "code",
   "execution_count": null,
   "metadata": {},
   "outputs": [],
   "source": [
    "# Ensure that 'start_date' columns are in datetime format\n",
    "ODI['start_date'] = pd.to_datetime(ODI['start_date'])\n",
    "test['start_date'] = pd.to_datetime(test['start_date'])\n",
    "\n",
    "# Preprocess the test data to create a mapping of player_ids to their sorted match dates and fantasy scores\n",
    "player_test_data = {}\n",
    "\n",
    "# Get unique player_ids in test data\n",
    "players_in_test = test['player_id'].unique()\n",
    "\n",
    "for player_id in players_in_test:\n",
    "    # Filter test data for the current player\n",
    "    player_data = test[test['player_id'] == player_id].copy()\n",
    "    # Sort the player's data by 'start_date'\n",
    "    player_data.sort_values('start_date', inplace=True)\n",
    "    # Ensure 'start_date' is datetime and has no missing values\n",
    "    player_data = player_data[player_data['start_date'].notnull()]\n",
    "    # Extract the dates and fantasy scores as pandas Series\n",
    "    dates = player_data['start_date']\n",
    "    scores = player_data['fantasy_score_total']\n",
    "    # Store the Series in a dictionary with player_id as the key\n",
    "    player_test_data[player_id] = {'dates': dates, 'scores': scores}\n",
    "\n",
    "# Define the list of n values\n",
    "n_values = [1, 5, 10, 15, 20]\n",
    "\n",
    "# Define a function to compute the rolling mean for each ODI match row\n",
    "def get_last_n_test_mean(row, n):\n",
    "    player_id = row['player_id']\n",
    "    date = row['start_date']\n",
    "    \n",
    "    # Check if the player exists in test data\n",
    "    if player_id not in player_test_data:\n",
    "        return np.nan  # Player has no test data; return NaN\n",
    "    \n",
    "    test_dates = player_test_data[player_id]['dates']\n",
    "    test_scores = player_test_data[player_id]['scores']\n",
    "    \n",
    "    # Ensure that date is not NaT\n",
    "    if pd.isna(date):\n",
    "        return np.nan\n",
    "    \n",
    "    # Find the index where the ODI match date would fit in the player's test dates\n",
    "    idx = test_dates.searchsorted(date)\n",
    "    # Determine the indices for the last n matches before the ODI match date\n",
    "    start_idx = max(0, idx - n)\n",
    "    end_idx = idx  # up to but not including idx\n",
    "    scores_to_use = test_scores.iloc[start_idx:end_idx]\n",
    "    \n",
    "    # Check if there are any matches to compute the mean\n",
    "    if len(scores_to_use) == 0:\n",
    "        return np.nan  # No prior matches; return NaN\n",
    "    else:\n",
    "        # Compute and return the mean of the last n test fantasy scores\n",
    "        return scores_to_use.mean()\n",
    "\n",
    "# Apply the function for each n and add the results to the ODI dataframe\n",
    "for n in n_values:\n",
    "    col_name = f'last_{n}_test_mean'\n",
    "    print(f\"Calculating rolling mean for n={n}\")\n",
    "    df[col_name] = df.apply(get_last_n_test_mean, axis=1, args=(n,))"
   ]
  },
  {
   "cell_type": "code",
   "execution_count": null,
   "metadata": {},
   "outputs": [],
   "source": [
    "df.tail()"
   ]
  },
  {
   "cell_type": "code",
   "execution_count": null,
   "metadata": {},
   "outputs": [],
   "source": [
    "df['num_matches_played'] = df.groupby('player_id').cumcount() + 1\n",
    "df['num_matches_played'] = df.groupby('player_id')['num_matches_played'].shift(1).fillna(0).astype(int)"
   ]
  },
  {
   "cell_type": "code",
   "execution_count": null,
   "metadata": {},
   "outputs": [],
   "source": [
    "# Ensure 'start_date' is in datetime format\n",
    "df['start_date'] = pd.to_datetime(df['start_date'])\n",
    "\n",
    "# Sort data to ensure correct time difference calculation\n",
    "df = df.sort_values(by=['player_id', 'start_date'])\n",
    "\n",
    "# Calculate duration since last match\n",
    "df['days_since_last_match'] = df.groupby('player_id')['start_date'].diff().dt.days\n",
    "\n",
    "# Fill NaN values (for the first match of each player) with a default value, e.g., -1 or 0\n",
    "df['days_since_last_match'] = df['days_since_last_match'].fillna(-1).astype(int)"
   ]
  },
  {
   "cell_type": "code",
   "execution_count": null,
   "metadata": {},
   "outputs": [],
   "source": [
    "d_f=pd.read_csv(\"mw_overall.csv\")"
   ]
  },
  {
   "cell_type": "code",
   "execution_count": null,
   "metadata": {},
   "outputs": [],
   "source": [
    "# Convert d_f to dictionary for quick lookup\n",
    "toss_dict = d_f.set_index(\"match_id\")[\"toss_decision\"].to_dict()\n",
    "\n",
    "# Function to assign bat_order\n",
    "def get_bat_order(match_id):\n",
    "    if match_id in toss_dict:\n",
    "        return 1 if toss_dict[match_id] == \"bat\" else 0\n",
    "    else:\n",
    "        return 0 \n",
    "\n",
    "# Apply function to create bat_order column\n",
    "df[\"bat_order\"] = df[\"match_id\"].apply(get_bat_order)\n"
   ]
  },
  {
   "cell_type": "code",
   "execution_count": null,
   "metadata": {},
   "outputs": [],
   "source": [
    "df[\"bat_order\"].value_counts()"
   ]
  },
  {
   "cell_type": "code",
   "execution_count": null,
   "metadata": {},
   "outputs": [],
   "source": [
    "df = df.sort_values(by='start_date').reset_index(drop=True)\n",
    "df.columns"
   ]
  },
  {
   "cell_type": "code",
   "execution_count": null,
   "metadata": {},
   "outputs": [],
   "source": [
    "cols=['fantasy_score_total', 'avg_fantasy_score_1',\n",
    "       'avg_fantasy_score_5', 'avg_fantasy_score_10', 'avg_fantasy_score_15',\n",
    "       'avg_fantasy_score_20', 'match_id','player_id','last_1_t20_mean', 'last_5_t20_mean',\n",
    "       'last_10_t20_mean', 'last_15_t20_mean', 'last_20_t20_mean','last_1_test_mean', 'last_5_test_mean', 'last_10_test_mean',\n",
    "       'last_15_test_mean', 'last_20_test_mean', 'num_matches_played', 'days_since_last_match',\n",
    "       'bat_order']"
   ]
  },
  {
   "cell_type": "code",
   "execution_count": null,
   "metadata": {},
   "outputs": [],
   "source": [
    "def split(df, date):\n",
    "    train = df[df['start_date'] <= pd.to_datetime(date)]\n",
    "    test = df[df['start_date'] > pd.to_datetime(date)]\n",
    "    return train,test"
   ]
  },
  {
   "cell_type": "code",
   "execution_count": null,
   "metadata": {},
   "outputs": [],
   "source": [
    "odi = df[df['match_type'] == 'ODI']"
   ]
  },
  {
   "cell_type": "code",
   "execution_count": null,
   "metadata": {},
   "outputs": [],
   "source": [
    "odi_train, odi_test = split(odi, cutoff_date)"
   ]
  },
  {
   "cell_type": "code",
   "execution_count": null,
   "metadata": {},
   "outputs": [],
   "source": [
    "train,test = split(df, cutoff_date)\n",
    "train = train[cols]\n",
    "test = test[cols]"
   ]
  },
  {
   "cell_type": "code",
   "execution_count": null,
   "metadata": {},
   "outputs": [],
   "source": [
    "odi_test = odi_test[cols]"
   ]
  },
  {
   "cell_type": "code",
   "execution_count": null,
   "metadata": {},
   "outputs": [],
   "source": [
    "cols = ['fantasy_score_total', 'avg_fantasy_score_1',\n",
    "       'avg_fantasy_score_5', 'avg_fantasy_score_10', 'avg_fantasy_score_15',\n",
    "       'avg_fantasy_score_20','last_1_t20_mean','last_5_t20_mean',\n",
    "       'last_10_t20_mean', 'last_15_t20_mean', 'last_20_t20_mean','last_1_test_mean', 'last_5_test_mean', 'last_10_test_mean',\n",
    "       'last_15_test_mean', 'last_20_test_mean', 'num_matches_played', 'days_since_last_match',\n",
    "       'bat_order']\n",
    "X_train = train[cols]\n",
    "# X_test = test[cols]"
   ]
  },
  {
   "cell_type": "code",
   "execution_count": null,
   "metadata": {},
   "outputs": [],
   "source": [
    "X_test = odi_test[cols]"
   ]
  },
  {
   "cell_type": "markdown",
   "metadata": {},
   "source": [
    "### Training Section"
   ]
  },
  {
   "cell_type": "code",
   "execution_count": null,
   "metadata": {},
   "outputs": [],
   "source": [
    "class EnsembleRegressor(BaseEstimator, RegressorMixin):\n",
    "    def __init__(self, models=None, weights=None):\n",
    "        self.models = models if models is not None else []\n",
    "        self.weights = weights if weights is not None else [1 / len(self.models)] * len(self.models)\n",
    "\n",
    "    def fit(self, X, y):\n",
    "        for model in self.models:\n",
    "            model.fit(X, y)\n",
    "        return self\n",
    "\n",
    "    def predict(self, X):\n",
    "        predictions = np.array([model.predict(X) for model in self.models])\n",
    "        weighted_preds = np.average(predictions, axis=0, weights=self.weights)\n",
    "        return weighted_preds\n",
    "\n",
    "def train_models(X_train, y_train):\n",
    "    models = {\n",
    "        \"xgboost regressor\": XGBRegressor(random_state=42),\n",
    "        \"decision tree regressor\": DecisionTreeRegressor(random_state=42),\n",
    "        \"linear regression\": LinearRegression(),\n",
    "        \"adaboost regressor\": AdaBoostRegressor(random_state=42),\n",
    "        \"catboost regressor\": CatBoostRegressor(random_state=42, silent=True),\n",
    "        \"bayesian linear regression\": BayesianRidge(),\n",
    "        \"lightgbm regressor\": LGBMRegressor(boosting_type='gbdt', is_unbalance=True, learning_rate=0.12875, num_leaves=10, random_state=42)\n",
    "    }\n",
    "    \n",
    "    # Add ensemble model combining Linear Regression and LightGBM Regressor\n",
    "    ensemble_model = EnsembleRegressor(\n",
    "        models=[LinearRegression(), LGBMRegressor(boosting_type='gbdt', is_unbalance=True, learning_rate=0.12875, num_leaves=10, random_state=42)],\n",
    "        weights=[0.5, 0.5]\n",
    "    )\n",
    "    models[\"ensemble (linear regression + lightgbm)\"] = ensemble_model\n",
    "\n",
    "    trained_models = {}\n",
    "\n",
    "    # Reshape X_train and y_train to ensure proper dimensions for each model\n",
    "    if len(X_train.shape) == 1:  # If X_train is a 1D array, convert it to 2D\n",
    "        X_train = X_train.reshape(-1, 1)\n",
    "\n",
    "    if len(y_train.shape) == 1:  # If y_train is a 1D array, no reshaping needed\n",
    "        pass\n",
    "    elif len(y_train.shape) == 2:  # If y_train is 2D, flatten it\n",
    "        y_train = y_train.ravel()\n",
    "\n",
    "    for name, model in models.items():\n",
    "        # Train the model\n",
    "        print(f\"Training {name}...\")\n",
    "        model.fit(X_train, y_train)\n",
    "        trained_models[name] = {\n",
    "            'model': model,\n",
    "        }\n",
    "\n",
    "    return trained_models\n"
   ]
  },
  {
   "cell_type": "code",
   "execution_count": null,
   "metadata": {},
   "outputs": [],
   "source": [
    "X_train"
   ]
  },
  {
   "cell_type": "code",
   "execution_count": null,
   "metadata": {},
   "outputs": [],
   "source": [
    "y_train = X_train['fantasy_score_total']\n",
    "y_test = X_test['fantasy_score_total']\n",
    "X_train.drop('fantasy_score_total',axis = 1, inplace = True)\n",
    "X_test.drop('fantasy_score_total',axis = 1, inplace = True)"
   ]
  },
  {
   "cell_type": "code",
   "execution_count": null,
   "metadata": {},
   "outputs": [],
   "source": [
    "X_train.isnull().sum()"
   ]
  },
  {
   "cell_type": "code",
   "execution_count": null,
   "metadata": {},
   "outputs": [],
   "source": [
    "X_train = X_train.fillna(0)\n",
    "X_test = X_test.fillna(0)"
   ]
  },
  {
   "cell_type": "code",
   "execution_count": null,
   "metadata": {},
   "outputs": [],
   "source": [
    "trained_models = train_models(X_train, y_train)"
   ]
  },
  {
   "cell_type": "code",
   "execution_count": null,
   "metadata": {},
   "outputs": [],
   "source": [
    "def predict_scores(trained_models, X_train, X_test):\n",
    "    # Ensure columns of X_test align with X_train columns\n",
    "    X_test = X_test[X_train.columns]\n",
    "\n",
    "    test_data = pd.DataFrame()\n",
    "\n",
    "    # Loop through each model to predict scores\n",
    "    for model_name, model_info in trained_models.items():\n",
    "        model = model_info['model']  # Extract the trained model\n",
    "        pred_scores = model.predict(X_test)  # Predict the scores\n",
    "\n",
    "        # Store each model's predicted scores in the DataFrame\n",
    "        test_data[model_name + '_predicted_score'] = pred_scores\n",
    "\n",
    "    return test_data"
   ]
  },
  {
   "cell_type": "code",
   "execution_count": null,
   "metadata": {},
   "outputs": [],
   "source": [
    "lin, lgbm = trained_models['linear regression']['model'], trained_models['lightgbm regressor']['model']"
   ]
  },
  {
   "cell_type": "code",
   "execution_count": null,
   "metadata": {},
   "outputs": [],
   "source": [
    "np.corrcoef(lin.predict(X_test), lgbm.predict(X_test))"
   ]
  },
  {
   "cell_type": "code",
   "execution_count": null,
   "metadata": {},
   "outputs": [],
   "source": [
    "def predictions_per_match(trained_models, X_train, X_test, test):\n",
    "    # Call predict_scores to get the predicted scores DataFrame\n",
    "    predictions = predict_scores(trained_models, X_train, X_test)\n",
    "\n",
    "    # Reset indices of test and predictions for alignment\n",
    "    test_reset = test.reset_index(drop=True)\n",
    "    predictions = predictions.reset_index(drop=True)\n",
    "\n",
    "    # Assign match_id and fantasy_score_total from test to predictions DataFrame\n",
    "    predictions['match_id'] = test_reset.get('match_id')\n",
    "    predictions['fantasy_score_total'] = test_reset.get('fantasy_score_total')\n",
    "\n",
    "    return predictions, test_reset"
   ]
  },
  {
   "cell_type": "code",
   "execution_count": null,
   "metadata": {},
   "outputs": [],
   "source": [
    "X_train.columns"
   ]
  },
  {
   "cell_type": "code",
   "execution_count": null,
   "metadata": {},
   "outputs": [],
   "source": [
    "test.columns"
   ]
  },
  {
   "cell_type": "code",
   "execution_count": null,
   "metadata": {},
   "outputs": [],
   "source": [
    "predictions,test_reset=predictions_per_match(trained_models,X_train,X_test,test)"
   ]
  },
  {
   "cell_type": "code",
   "execution_count": null,
   "metadata": {},
   "outputs": [],
   "source": [
    "def avg_percentage_error_per_model(predictions):\n",
    "    percentage_error_per_model = {model_name: 0 for model_name in predictions.columns if '_predicted_score' in model_name}\n",
    "    num_matches = predictions['match_id'].nunique() \n",
    "\n",
    "    for match_id in predictions['match_id'].unique():\n",
    "        match_data = predictions[predictions['match_id'] == match_id]\n",
    "        match_data_sorted = match_data.sort_values(\n",
    "            by=[col for col in match_data.columns if '_predicted_score' in col], ascending=False\n",
    "        )\n",
    "        for model_name in percentage_error_per_model:\n",
    "            match_data_sorted_model = match_data_sorted.sort_values(by='fantasy_score_total', ascending=False)\n",
    "            top_11_true = match_data_sorted_model['fantasy_score_total'].iloc[:11].copy()\n",
    "            match_data_sorted_model = match_data.sort_values(by=model_name, ascending=False)\n",
    "            if len(top_11_true) > 0:\n",
    "                top_11_true.iloc[0] *= 2 \n",
    "            if len(top_11_true) > 1:\n",
    "                top_11_true.iloc[1] *= 1.5 \n",
    "\n",
    "            top_11_predicted = match_data_sorted_model['fantasy_score_total'].iloc[:11].copy()\n",
    "            if len(top_11_predicted) > 0:\n",
    "                top_11_predicted.iloc[0] *= 2\n",
    "            if len(top_11_predicted) > 1:\n",
    "                top_11_predicted.iloc[1] *= 1.5  \n",
    "            top_11_sum_true = top_11_true.sum()\n",
    "            top_11_sum_predicted = top_11_predicted.sum()\n",
    "            if top_11_sum_true != 0:  \n",
    "                percentage_error = abs(top_11_sum_predicted - top_11_sum_true) / top_11_sum_true * 100\n",
    "            else:\n",
    "                percentage_error = 0 \n",
    "\n",
    "            percentage_error_per_model[model_name] += percentage_error\n",
    "\n",
    "    avg_percentage_error_per_model = {model_name: total_error / num_matches for model_name, total_error in percentage_error_per_model.items()} if num_matches != 0 else 69\n",
    "\n",
    "    return avg_percentage_error_per_model"
   ]
  },
  {
   "cell_type": "code",
   "execution_count": null,
   "metadata": {},
   "outputs": [],
   "source": [
    "predictions"
   ]
  },
  {
   "cell_type": "code",
   "execution_count": null,
   "metadata": {},
   "outputs": [],
   "source": [
    "avg_percentage_error_per_model(predictions)"
   ]
  },
  {
   "cell_type": "code",
   "execution_count": null,
   "metadata": {},
   "outputs": [],
   "source": [
    "pip install shap"
   ]
  },
  {
   "cell_type": "code",
   "execution_count": null,
   "metadata": {},
   "outputs": [],
   "source": [
    "import shap\n",
    "import xgboost as xgb\n",
    "\n",
    "def explain_model_with_shap(trained_models, X_train, y_train):\n",
    "    # Loop through each model to compute SHAP values\n",
    "    for model_name, model_info in trained_models.items():\n",
    "        model = model_info['model']  # Extract the trained model\n",
    "        model.fit(X_train, y_train)  # Train the model if needed\n",
    "\n",
    "        # Check if the model is XGBRegressor or LinearRegression for shap\n",
    "        if isinstance(model, xgb.XGBRegressor):\n",
    "            explainer = shap.Explainer(model)\n",
    "        else:\n",
    "            explainer = shap.KernelExplainer(model.predict, X_train)  # For models like LinearRegression\n",
    "\n",
    "        shap_values = explainer.shap_values(X_train)\n",
    "\n",
    "        # Plot the SHAP values for all features\n",
    "        shap.summary_plot(shap_values, X_train, max_display=X_train.shape[1])\n",
    "\n",
    "        break \n",
    "\n",
    "# Example call\n",
    "explain_model_with_shap(trained_models, X_train, y_train)"
   ]
  },
  {
   "cell_type": "markdown",
   "metadata": {},
   "source": [
    "### Post Model Work"
   ]
  },
  {
   "cell_type": "code",
   "execution_count": null,
   "metadata": {},
   "outputs": [],
   "source": [
    "df.columns"
   ]
  },
  {
   "cell_type": "code",
   "execution_count": null,
   "metadata": {},
   "outputs": [],
   "source": [
    "def return_15_best_players(players, data, trained_models, cols):\n",
    "\n",
    "    scores = {}\n",
    "\n",
    "    for player in players:\n",
    "        model = trained_models['linear regression']['model']\n",
    "        player_data = pd.concat([\n",
    "            data[data['full_name'] == player],\n",
    "            data[data['unique_name'] == player],\n",
    "            data[data['name_y'] == player]\n",
    "        ])\n",
    "\n",
    "\n",
    "        if player_data.empty:\n",
    "            continue\n",
    "\n",
    "        test_data = player_data.iloc[-1][cols].drop('fantasy_score_total', errors='ignore')\n",
    "\n",
    "        # Fill NaN values with 0\n",
    "        test_data = test_data.fillna(0)\n",
    "\n",
    "        # Convert to DataFrame with correct feature names\n",
    "        test_data_df = pd.DataFrame([test_data], columns=test_data.index)\n",
    "\n",
    "        pred_score = model.predict(test_data_df)[0]  # Predicted score\n",
    "        scores[player] = pred_score\n",
    "\n",
    "    top_15_players = [player for player, score in sorted(scores.items(), key=lambda x: x[1], reverse=True)[:22]]\n",
    "\n",
    "    return top_15_players, scores\n"
   ]
  },
  {
   "cell_type": "code",
   "execution_count": null,
   "metadata": {},
   "outputs": [],
   "source": [
    "uni = ['Rohit Gurunath Sharma', 'Shreyas Santosh Iyer', 'Shubman Gill', 'Virat Kohli', 'Yashasvi Bhupendra Kumar Jaiswal', 'Axar Rajeshbhai Patel', 'Hardik Himanshu Pandya', 'Ravindrasinh Anirudhsinh Jadeja', 'Washington Sundar', 'KL Rahul', 'Rishabh Rajendra Pant', 'Arshdeep Singh', 'Harshit Rana', 'Jasprit Jasbirsingh Bumrah', 'Kuldeep Yadav', 'Mohammed Shami', 'Varun Chakravarthy Vinod',\n",
    "       'Ben Matthew Duckett', 'Henry James Hamilton Brookes', 'Joseph Edward Root', 'Jacob Graham Bethell', 'Jamie Overton', 'Liam Stephen Livingstone', 'Jamie Luke Smith', 'Joseph Charles Buttler', 'Philip Dean Salt', 'Adil Usman Rashid', 'Brydon Alexander Carse', 'Angus Alexander Patrick Atkinson', 'Jofra Chioke Archer', 'Mark Andrew Wood', 'Saqib Mahmood']"
   ]
  },
  {
   "cell_type": "code",
   "execution_count": null,
   "metadata": {},
   "outputs": [],
   "source": [
    "# uni = uni[:31]"
   ]
  },
  {
   "cell_type": "code",
   "execution_count": null,
   "metadata": {},
   "outputs": [],
   "source": [
    "X_train.head()"
   ]
  },
  {
   "cell_type": "code",
   "execution_count": null,
   "metadata": {},
   "outputs": [],
   "source": [
    "top15, sco = return_15_best_players(uni, df.copy(), trained_models, cols)"
   ]
  },
  {
   "cell_type": "code",
   "execution_count": null,
   "metadata": {},
   "outputs": [],
   "source": [
    "top15"
   ]
  },
  {
   "cell_type": "code",
   "execution_count": null,
   "metadata": {},
   "outputs": [],
   "source": [
    "df[df['full_name'] == 'Saqib Mahmood']"
   ]
  },
  {
   "cell_type": "markdown",
   "metadata": {},
   "source": [
    "### The weighted optimisation for 100 points limit  "
   ]
  },
  {
   "cell_type": "code",
   "execution_count": null,
   "metadata": {},
   "outputs": [],
   "source": []
  },
  {
   "cell_type": "code",
   "execution_count": null,
   "metadata": {},
   "outputs": [],
   "source": []
  }
 ],
 "metadata": {
  "kernelspec": {
   "display_name": "Python 3 (ipykernel)",
   "language": "python",
   "name": "python3"
  },
  "language_info": {
   "codemirror_mode": {
    "name": "ipython",
    "version": 3
   },
   "file_extension": ".py",
   "mimetype": "text/x-python",
   "name": "python",
   "nbconvert_exporter": "python",
   "pygments_lexer": "ipython3",
   "version": "3.11.7"
  }
 },
 "nbformat": 4,
 "nbformat_minor": 4
}
